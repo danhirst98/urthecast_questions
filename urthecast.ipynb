{
 "cells": [
  {
   "cell_type": "markdown",
   "metadata": {},
   "source": [
    "# UrtheCast Application Questions"
   ]
  },
  {
   "cell_type": "markdown",
   "metadata": {},
   "source": [
    "Dan Hirst"
   ]
  },
  {
   "cell_type": "markdown",
   "metadata": {},
   "source": [
    "### Question 1"
   ]
  },
  {
   "cell_type": "markdown",
   "metadata": {},
   "source": [
    "Write a function that calculates the nth Fibonacci number in O(n) time or better without using any \"for\" or \"while\" loops."
   ]
  },
  {
   "cell_type": "code",
   "execution_count": 6,
   "metadata": {},
   "outputs": [],
   "source": [
    "from numpy import zeros\n",
    "\n",
    "def fib(n):\n",
    "    #return 0,1 if n=0,1\n",
    "    if n <=1:\n",
    "        return n\n",
    "    \n",
    "    # create array of 0s to store values for fib(i)\n",
    "    arr = zeros([n+1])    \n",
    "    \n",
    "    #creat  value for fib(n-1) or fib(n-2) if not already made\n",
    "    if not arr[n-1]:\n",
    "        arr[n-1] = fib(n-1)\n",
    "    if not arr[n-2]:\n",
    "        arr[n-2] = fib(n-2)\n",
    "    \n",
    "    # return the sum of the previous two values\n",
    "    return int(arr[n-1]+arr[n-2])"
   ]
  },
  {
   "cell_type": "markdown",
   "metadata": {},
   "source": [
    "Running the function"
   ]
  },
  {
   "cell_type": "code",
   "execution_count": 7,
   "metadata": {
    "scrolled": true
   },
   "outputs": [
    {
     "name": "stdout",
     "output_type": "stream",
     "text": [
      "0\n",
      "1\n",
      "1\n",
      "2\n",
      "3\n",
      "5\n",
      "8\n",
      "13\n",
      "21\n",
      "34\n",
      "55\n",
      "89\n",
      "144\n",
      "233\n",
      "377\n",
      "610\n",
      "987\n",
      "1597\n",
      "2584\n",
      "4181\n",
      "6765\n",
      "10946\n",
      "17711\n",
      "28657\n",
      "46368\n",
      "75025\n",
      "121393\n",
      "196418\n",
      "317811\n",
      "514229\n"
     ]
    }
   ],
   "source": [
    "for i in range(30):\n",
    "    print(fib(i))"
   ]
  },
  {
   "cell_type": "markdown",
   "metadata": {},
   "source": [
    "### Question 2"
   ]
  },
  {
   "cell_type": "markdown",
   "metadata": {},
   "source": [
    "Write an immutable function that merges the following inputs into a single list. (Feel free to use the space below or submit a link to your work.)\n",
    "\n",
    "**Inputs**\n",
    "- Original list of strings\n",
    "- List of strings to be added\n",
    "- List of strings to be removed\n",
    "\n",
    "**Return**\n",
    "- List shall only contain unique values\n",
    "- List shall be ordered as follows\n",
    "    - Most character count to least character count\n",
    "    - In the event of a tie, reverse alphabetical\n"
   ]
  },
  {
   "cell_type": "code",
   "execution_count": 3,
   "metadata": {},
   "outputs": [],
   "source": [
    "def merge(origlist,addlist,dellist):\n",
    "    \n",
    "    # concatenate original list and list of strings to be added\n",
    "    concat_list = origlist+addlist\n",
    "    \n",
    "    # remove items in the list to be deleted\n",
    "    filtered_list = filter(lambda x: x not in dellist, concat_list)\n",
    "    \n",
    "    # remove duplicates\n",
    "    nondup_list = list(set(filtered_list))\n",
    "    \n",
    "    # sort\n",
    "    sorted_list = sorted(nondup_list,key=lambda x: (len(x),x),reverse=True)\n",
    "    \n",
    "    return sorted_list"
   ]
  },
  {
   "cell_type": "markdown",
   "metadata": {},
   "source": [
    "Running the function"
   ]
  },
  {
   "cell_type": "code",
   "execution_count": 4,
   "metadata": {},
   "outputs": [],
   "source": [
    "o = ['one','two','three']\n",
    "a = ['one','two','five','six']\n",
    "d = ['two','five']"
   ]
  },
  {
   "cell_type": "code",
   "execution_count": 5,
   "metadata": {},
   "outputs": [
    {
     "data": {
      "text/plain": [
       "['three', 'six', 'one']"
      ]
     },
     "execution_count": 5,
     "metadata": {},
     "output_type": "execute_result"
    }
   ],
   "source": [
    "merge(o,a,d)"
   ]
  }
 ],
 "metadata": {
  "kernelspec": {
   "display_name": "Python 3",
   "language": "python",
   "name": "python3"
  },
  "language_info": {
   "codemirror_mode": {
    "name": "ipython",
    "version": 3
   },
   "file_extension": ".py",
   "mimetype": "text/x-python",
   "name": "python",
   "nbconvert_exporter": "python",
   "pygments_lexer": "ipython3",
   "version": "3.7.4"
  }
 },
 "nbformat": 4,
 "nbformat_minor": 2
}
